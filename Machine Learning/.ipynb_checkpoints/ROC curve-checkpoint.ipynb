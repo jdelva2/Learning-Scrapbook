{
 "cells": [
  {
   "cell_type": "markdown",
   "id": "98695a1e",
   "metadata": {},
   "source": [
    "# Extra resources \n",
    "- https://github.com/dataprofessor/code/blob/master/python/ROC_curve.ipynb\n",
    "- "
   ]
  },
  {
   "cell_type": "markdown",
   "id": "426a6ca5",
   "metadata": {},
   "source": [
    "## ROC Curve equations\n",
    "\n",
    "- TPR (Sensitivity) = TP / (TP +FP)\n",
    "- FPR (1 -Sensitivity) = FP / (TN + FP)"
   ]
  },
  {
   "cell_type": "markdown",
   "id": "7e4de1f9",
   "metadata": {},
   "source": [
    "## Create synthetic dataset"
   ]
  },
  {
   "cell_type": "code",
   "execution_count": 2,
   "id": "5186f2c1",
   "metadata": {},
   "outputs": [],
   "source": [
    "from sklearn.datasets import make_classification\n",
    "import numpy as np"
   ]
  },
  {
   "cell_type": "code",
   "execution_count": 3,
   "id": "b4ad76d2",
   "metadata": {},
   "outputs": [],
   "source": [
    "X, Y = make_classification(n_samples = 2000, n_classes = 2, n_features = 10, random_state = 0)"
   ]
  },
  {
   "cell_type": "code",
   "execution_count": 4,
   "id": "85548feb",
   "metadata": {},
   "outputs": [],
   "source": [
    "random_state = np.random.RandomState(0)\n",
    "n_samples, n_features = X.shape\n",
    "X = np.c_[X, random_state.randn(n_samples, 200 * n_features)]"
   ]
  },
  {
   "cell_type": "markdown",
   "id": "3c0420a3",
   "metadata": {},
   "source": [
    "## Data Splitting"
   ]
  },
  {
   "cell_type": "code",
   "execution_count": 5,
   "id": "a4137d97",
   "metadata": {},
   "outputs": [],
   "source": [
    "from sklearn.model_selection import train_test_split\n",
    "X_train, X_test, Y_train ,Y_test = train_test_split( X, Y, train_size = 0.8,\n",
    "                                                         test_size = 0.2,\n",
    "                                                         random_state = 0)"
   ]
  },
  {
   "cell_type": "code",
   "execution_count": 8,
   "id": "0ab28cc5",
   "metadata": {},
   "outputs": [],
   "source": [
    "#Y_test"
   ]
  },
  {
   "cell_type": "markdown",
   "id": "293311f7",
   "metadata": {},
   "source": [
    "## Build any classification model "
   ]
  },
  {
   "cell_type": "code",
   "execution_count": 5,
   "id": "d2bf3dc4",
   "metadata": {},
   "outputs": [],
   "source": [
    "from sklearn.ensemble import RandomForestClassifier\n",
    "from sklearn.naive_bayes import GaussianNB"
   ]
  },
  {
   "cell_type": "code",
   "execution_count": 6,
   "id": "911bab3e",
   "metadata": {},
   "outputs": [
    {
     "data": {
      "text/plain": [
       "RandomForestClassifier(max_features=5, n_estimators=500)"
      ]
     },
     "execution_count": 6,
     "metadata": {},
     "output_type": "execute_result"
    }
   ],
   "source": [
    "rf = RandomForestClassifier(max_features = 5, n_estimators = 500)\n",
    "rf.fit(X_train, Y_train)"
   ]
  },
  {
   "cell_type": "markdown",
   "id": "170630a6",
   "metadata": {},
   "source": [
    "## Naive Bayes"
   ]
  },
  {
   "cell_type": "code",
   "execution_count": 7,
   "id": "c4073ee4",
   "metadata": {},
   "outputs": [
    {
     "data": {
      "text/plain": [
       "GaussianNB()"
      ]
     },
     "execution_count": 7,
     "metadata": {},
     "output_type": "execute_result"
    }
   ],
   "source": [
    "nb = GaussianNB()\n",
    "nb.fit(X_train, Y_train)"
   ]
  },
  {
   "cell_type": "markdown",
   "id": "e982a1ef",
   "metadata": {},
   "source": [
    "## Prediction probabilities"
   ]
  },
  {
   "cell_type": "code",
   "execution_count": 8,
   "id": "6e887208",
   "metadata": {},
   "outputs": [],
   "source": [
    "r_probs = [0 for _ in range(len(Y_test))]\n",
    "rf_probs = rf.predict_proba(X_test)\n",
    "nb_probs = nb.predict_proba(X_test)"
   ]
  },
  {
   "cell_type": "code",
   "execution_count": 10,
   "id": "bda3051d",
   "metadata": {},
   "outputs": [],
   "source": [
    "#r_probs"
   ]
  },
  {
   "cell_type": "markdown",
   "id": "087bd6a9",
   "metadata": {},
   "source": [
    "#### probabilities for the positive outcome is kept."
   ]
  },
  {
   "cell_type": "code",
   "execution_count": 11,
   "id": "23fe6620",
   "metadata": {},
   "outputs": [],
   "source": [
    "rf_probs = rf_probs[:,1]\n",
    "nb_probs = nb_probs[:,1]"
   ]
  },
  {
   "cell_type": "markdown",
   "id": "22018103",
   "metadata": {},
   "source": [
    "## Computing AUROC and ROC curve values"
   ]
  },
  {
   "cell_type": "code",
   "execution_count": 12,
   "id": "f59ad6a7",
   "metadata": {},
   "outputs": [],
   "source": [
    "from sklearn.metrics import roc_curve, roc_auc_score"
   ]
  },
  {
   "cell_type": "markdown",
   "id": "4f3ef45a",
   "metadata": {},
   "source": [
    "### Calculate AUROC\n",
    "#### ROC is the reciever operating characteristic AUROC is the are under the ROC curve."
   ]
  },
  {
   "cell_type": "code",
   "execution_count": 13,
   "id": "466eff36",
   "metadata": {},
   "outputs": [],
   "source": [
    "r_auc = roc_auc_score(Y_test, r_probs)\n",
    "rf_auc = roc_auc_score(Y_test, rf_probs)\n",
    "nb_auc = roc_auc_score(Y_test, nb_probs)"
   ]
  },
  {
   "cell_type": "markdown",
   "id": "7c13def5",
   "metadata": {},
   "source": [
    "### Print AUROC scores"
   ]
  },
  {
   "cell_type": "code",
   "execution_count": 14,
   "id": "3f1dbb1d",
   "metadata": {},
   "outputs": [
    {
     "name": "stdout",
     "output_type": "stream",
     "text": [
      "Random (chance) Prediction: AUROC = 0.500\n",
      "Random Foreset: AUROC = 0.921\n",
      "Naive Bayes: AUROC = 0.993\n"
     ]
    }
   ],
   "source": [
    "print('Random (chance) Prediction: AUROC = %.3f' % (r_auc))\n",
    "print('Random Foreset: AUROC = %.3f'% (rf_auc))\n",
    "print('Naive Bayes: AUROC = %.3f' % (nb_auc))"
   ]
  },
  {
   "cell_type": "markdown",
   "id": "38628274",
   "metadata": {},
   "source": [
    "## Calculate ROC Curve"
   ]
  },
  {
   "cell_type": "code",
   "execution_count": 15,
   "id": "55079ed1",
   "metadata": {},
   "outputs": [],
   "source": [
    "r_fpr, r_tpr, _ = roc_curve(Y_test, r_probs)\n",
    "rf_fpr, rf_tpr, _ = roc_curve(Y_test, rf_probs)\n",
    "nb_fpr, nb_tpr, _  = roc_curve(Y_test, nb_probs)"
   ]
  },
  {
   "cell_type": "markdown",
   "id": "a5c28281",
   "metadata": {},
   "source": [
    "## Plot the ROC curve"
   ]
  },
  {
   "cell_type": "code",
   "execution_count": 16,
   "id": "a0a626e4",
   "metadata": {},
   "outputs": [],
   "source": [
    "import matplotlib.pyplot as plt"
   ]
  },
  {
   "cell_type": "code",
   "execution_count": 20,
   "id": "cd947d8b",
   "metadata": {},
   "outputs": [
    {
     "data": {
      "image/png": "[encoded data removed]",
      "text/plain": [
       "<Figure size 432x288 with 1 Axes>"
      ]
     },
     "metadata": {
      "needs_background": "light"
     },
     "output_type": "display_data"
    }
   ],
   "source": [
    "plt.plot(r_fpr, r_tpr, linestyle='--', label = 'Random prediction (AUROC = %0.3f)' % r_auc)\n",
    "plt.plot(rf_fpr, rf_tpr, marker = '.', label = 'Random Forest (AUROC = %0.3f)' % rf_auc)\n",
    "plt.plot(nb_fpr, nb_tpr, marker = '.', label = 'Naive Bayes (AUROC = %0.3f)' % nb_auc)\n",
    "\n",
    "\n",
    "# title\n",
    "plt.title('ROC Plot')\n",
    "# axis labels\n",
    "plt.xlabel('False Positive Rate')\n",
    "plt.ylabel('True Positive Rate')\n",
    "# show legend\n",
    "plt.legend()\n",
    "# show plot\n",
    "plt.show()"
   ]
  },
  {
   "cell_type": "code",
   "execution_count": null,
   "id": "bc0d8392",
   "metadata": {},
   "outputs": [],
   "source": []
  },
  {
   "cell_type": "code",
   "execution_count": null,
   "id": "283529cb",
   "metadata": {},
   "outputs": [],
   "source": []
  }
 ],
 "metadata": {
  "kernelspec": {
   "display_name": "Python 3 (ipykernel)",
   "language": "python",
   "name": "python3"
  },
  "language_info": {
   "codemirror_mode": {
    "name": "ipython",
    "version": 3
   },
   "file_extension": ".py",
   "mimetype": "text/x-python",
   "name": "python",
   "nbconvert_exporter": "python",
   "pygments_lexer": "ipython3",
   "version": "3.7.11"
  }
 },
 "nbformat": 4,
 "nbformat_minor": 5
}
